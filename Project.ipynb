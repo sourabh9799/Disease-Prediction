{
  "nbformat": 4,
  "nbformat_minor": 0,
  "metadata": {
    "colab": {
      "name": "Project.ipynb",
      "private_outputs": true,
      "provenance": [],
      "collapsed_sections": []
    },
    "kernelspec": {
      "name": "python3",
      "display_name": "Python 3"
    }
  },
  "cells": [
    {
      "cell_type": "code",
      "metadata": {
        "id": "SCmq4jkUvORE"
      },
      "source": [
        "import pandas as pd\n",
        "import numpy as np\n",
        "import matplotlib.pyplot as plt\n",
        "import seaborn as sns\n",
        "from sklearn.preprocessing import LabelEncoder\n",
        "import keras\n",
        "from keras.models import Sequential\n",
        "from keras import layers\n",
        "from keras.layers import Dense, Dropout\n",
        "from sklearn.metrics import confusion_matrix"
      ],
      "execution_count": null,
      "outputs": []
    },
    {
      "cell_type": "code",
      "metadata": {
        "id": "8TW4kVnmvX4t"
      },
      "source": [
        "df1=pd.read_csv('/content/drive/MyDrive/kaggler_dataset/Training.csv')\n",
        "df1.shape"
      ],
      "execution_count": null,
      "outputs": []
    },
    {
      "cell_type": "code",
      "metadata": {
        "id": "LdWWmOa8AiSj"
      },
      "source": [
        "df2=pd.read_csv('/content/drive/MyDrive/kaggler_dataset/Testing.csv')\n",
        "df2.shape"
      ],
      "execution_count": null,
      "outputs": []
    },
    {
      "cell_type": "code",
      "metadata": {
        "id": "RGplObeCjOUU"
      },
      "source": [
        "df=pd.concat([df1, df2]).reset_index(drop=True)\n",
        "df.shape"
      ],
      "execution_count": null,
      "outputs": []
    },
    {
      "cell_type": "code",
      "metadata": {
        "id": "cpCZhLA0NxnE"
      },
      "source": [
        "df.shape"
      ],
      "execution_count": null,
      "outputs": []
    },
    {
      "cell_type": "code",
      "metadata": {
        "id": "TyYPHI_QN9XX"
      },
      "source": [
        "df.tail()"
      ],
      "execution_count": null,
      "outputs": []
    },
    {
      "cell_type": "code",
      "metadata": {
        "id": "3_54xYIwuLaR"
      },
      "source": [
        "df.describe()"
      ],
      "execution_count": null,
      "outputs": []
    },
    {
      "cell_type": "code",
      "metadata": {
        "id": "Q_dXcPTXpsFX"
      },
      "source": [
        "df.dtypes"
      ],
      "execution_count": null,
      "outputs": []
    },
    {
      "cell_type": "code",
      "metadata": {
        "id": "RmYkkZq31s2X"
      },
      "source": [
        "df.columns[df.isnull().any()]"
      ],
      "execution_count": null,
      "outputs": []
    },
    {
      "cell_type": "code",
      "metadata": {
        "id": "Xl8PfrfKj2qZ"
      },
      "source": [
        "df['prognosis'].value_counts()"
      ],
      "execution_count": null,
      "outputs": []
    },
    {
      "cell_type": "code",
      "metadata": {
        "id": "qoZuOS0L2cQt"
      },
      "source": [
        "plt.figure(figsize=(50,10))\n",
        "sns.countplot(x='prognosis',data=df,palette='hls')\n",
        "plt.show()"
      ],
      "execution_count": null,
      "outputs": []
    },
    {
      "cell_type": "code",
      "metadata": {
        "id": "j8WXw21fw9j1"
      },
      "source": [
        "le=LabelEncoder()\n",
        "df['prognosis']=le.fit_transform(df['prognosis'])\n",
        "df.head()"
      ],
      "execution_count": null,
      "outputs": []
    },
    {
      "cell_type": "code",
      "metadata": {
        "id": "RLopq5uVxeC6"
      },
      "source": [
        "df.shape"
      ],
      "execution_count": null,
      "outputs": []
    },
    {
      "cell_type": "code",
      "metadata": {
        "id": "CxJW2rl2axK2"
      },
      "source": [
        "X=df.drop('prognosis',axis=1)\n",
        "y=df['prognosis']\n",
        "X.shape,y.shape"
      ],
      "execution_count": null,
      "outputs": []
    },
    {
      "cell_type": "code",
      "metadata": {
        "id": "y2w88NAfZhd9"
      },
      "source": [
        "from sklearn.model_selection import train_test_split\n",
        "X_train, X_test, y_train, y_test= train_test_split(X, y, test_size=0.33)\n",
        "X_train.shape, X_test.shape, y_train.shape, y_test.shape"
      ],
      "execution_count": null,
      "outputs": []
    },
    {
      "cell_type": "code",
      "metadata": {
        "id": "YS88fqYpfH7E"
      },
      "source": [
        "from keras.callbacks import ModelCheckpoint, EarlyStopping, ReduceLROnPlateau\n",
        "from keras.optimizers import SGD\n",
        "opt=SGD(lr=1)"
      ],
      "execution_count": null,
      "outputs": []
    },
    {
      "cell_type": "code",
      "metadata": {
        "id": "1XcsTwuz8UtV"
      },
      "source": [
        "cls=Sequential()\n",
        "cls.add(Dense(8, activation='relu', input_dim=132))\n",
        "cls.add(Dropout(0.05))\n",
        "cls.add(Dense(16, activation='relu'))\n",
        "cls.add(Dropout(0.05))\n",
        "cls.add(Dense(41, activation='softmax'))\n",
        "cls.compile(optimizer=opt, loss=\"sparse_categorical_crossentropy\", metrics=[\"accuracy\"])\n",
        "cls.fit(X_train, y_train,validation_data=(X_test,y_test), batch_size=50, epochs=150)"
      ],
      "execution_count": null,
      "outputs": []
    },
    {
      "cell_type": "code",
      "metadata": {
        "id": "ZZ0vyyWx4drW"
      },
      "source": [
        "cls.summary()"
      ],
      "execution_count": null,
      "outputs": []
    },
    {
      "cell_type": "code",
      "metadata": {
        "id": "OIPmqqKkyqFf"
      },
      "source": [
        "y_pred=cls.predict_classes(X_test)\n",
        "cm = confusion_matrix(y_test,y_pred)\n",
        "plt.figure(figsize=(30,20))\n",
        "sns.heatmap(cm,annot=True, fmt=\"d\",linewidths=.5)\n",
        "plt.xlabel(\"Predicted\")\n",
        "plt.ylabel(\"True\")"
      ],
      "execution_count": null,
      "outputs": []
    },
    {
      "cell_type": "code",
      "metadata": {
        "id": "pcSaTVbTRvRe"
      },
      "source": [
        "from tensorflow.keras.models import load_model\n",
        "cls.save('/content/drive/MyDrive/kaggler_dataset/my_model')"
      ],
      "execution_count": null,
      "outputs": []
    },
    {
      "cell_type": "code",
      "metadata": {
        "id": "qjX-GMOczNMs"
      },
      "source": [
        "from sklearn.metrics import accuracy_score\n",
        "accuracy_score(y_test, y_pred)"
      ],
      "execution_count": null,
      "outputs": []
    }
  ]
}